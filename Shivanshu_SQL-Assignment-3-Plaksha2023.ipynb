{
 "cells": [
  {
   "cell_type": "markdown",
   "id": "b3d08535",
   "metadata": {},
   "source": [
    "<img src=\"https://raw.githubusercontent.com/afo/data-x-plaksha/master/imgsource/dx_logo.png\" align=\"left\"></img><br><br><br><br>"
   ]
  },
  {
   "cell_type": "markdown",
   "id": "4c408082",
   "metadata": {},
   "source": [
    "## Plaksha SQL assignment"
   ]
  },
  {
   "cell_type": "markdown",
   "id": "7f7d4113-c3a9-47b2-b7df-b844d49abd22",
   "metadata": {},
   "source": [
    "---\n",
    "\n",
    "## Submission details:\n",
    "\n",
    "Please submit this as a Jupyter Notebook and a PDF of your results (both should show output). Also push your solutions to Github.\n",
    "\n",
    "For the submision create a local database with `sqlite3` or `sqlalchemy` in a Jupyter notebook and make the queries either with a cursor object (and then print the results) or by using pandas `pd.read_sql_query()`."
   ]
  },
  {
   "cell_type": "markdown",
   "id": "0c551f03-7eff-43e2-89a7-a53b54098223",
   "metadata": {},
   "source": [
    "___\n",
    "\n",
    "When completing this homework you can experiment with SQL commands by utilizing this great online editor:\n",
    "\n",
    "https://www.w3schools.com/sql/trysql.asp?filename=trysql_select_all\n",
    "\n",
    "There are already some tables in the online Database, namely:\n",
    "\n",
    "`Categories, Employees, OrderDetails, Orders, Products, Shippers, and Suppliers.`\n",
    "\n",
    "If you want you can drop them by running  `DROP TABLE [table-name];` (or just keep them)."
   ]
  },
  {
   "cell_type": "markdown",
   "id": "dccc820f-21b0-4b2c-9ca8-9cb9eab76023",
   "metadata": {},
   "source": [
    "___\n",
    "\n",
    "## Exercises:\n",
    "\n",
    "First create a table called students. It has the columns: 'student_id', 'name', 'major', 'gpa' and 'enrollment_date' We will use a new form of `CREATE TABLE` expression to produce this table.\n",
    "\n",
    "Note that you can improve this and are welcome to do so -- e.g. by specifying for example a PRIMARY KEY and a FOREIGN KEY in Q2 :)\n",
    "\n",
    "    CREATE TABLE students AS\n",
    "        SELECT 1 AS student_id, \"John\" AS name, \"Computer Science\" AS major, 3.5 AS gpa, \"01-01-2022\" AS enrollment_date UNION\n",
    "        SELECT 2, \"Jane\", \"Physics\", 3.8, \"01-02-2022\" UNION\n",
    "        SELECT 3, \"Bob\", \"Engineering\", 3.0, \"01-03-2022\" UNION\n",
    "        SELECT 4, \"Samantha\", \"Physics\", 3.9, \"01-04-2022\" UNION\n",
    "        SELECT 5, \"James\", \"Engineering\", 3.7, \"01-05-2022\" UNION\n",
    "        SELECT 6, \"Emily\", \"Computer Science\", 3.6, \"01-06-2022\" UNION\n",
    "        SELECT 7, \"Michael\", \"Computer Science\", 3.2, \"01-07-2022\" UNION\n",
    "        SELECT 8, \"Jessica\", \"Engineering\", 3.8, \"01-08-2022\" UNION\n",
    "        SELECT 9, \"Jacob\", \"Physics\", 3.4, \"01-09-2022\" UNION\n",
    "        SELECT 10, \"Ashley\", \"Physics\", 3.9, \"01-10-2022\";\n",
    "\n",
    "\n",
    "## Q1 Simple SELECTS (on the students table)\n",
    "1. SELECT all records in the table.\n",
    "2. SELECT students whose major is \"Computer Science\".\n",
    "3. SELECT all unique majors (use SELECT DISTINCT) and order them by name, descending order (i.e. Physics first).\n",
    "4. SELECT all students that have an 'e' in their name and order them by gpa in ascending order.\n",
    "\n",
    "\n",
    "## Q2 Joins\n",
    "\n",
    "Create a new table called courses, which indicates the courses taken by the students. \n",
    "\n",
    "Create the table by running:\n",
    "\t\n",
    "    CREATE TABLE courses AS\n",
    "        SELECT 1 AS course_id, \"Python programming\" AS course_name, 1 AS student_id, \"A\" AS grade UNION\n",
    "        SELECT 2, \"Data Structures\", 2, \"B\" UNION\n",
    "        SELECT 3, \"Database Systems\", 3, \"B\" UNION\n",
    "        SELECT 1, \"Python programming\", 4, \"A\" UNION\n",
    "        SELECT 4, \"Quantum Mechanics\", 5, \"C\" UNION\n",
    "        SELECT 1, \"Python programming\", 6, \"F\" UNION\n",
    "        SELECT 2, \"Data Structures\", 7, \"C\" UNION\n",
    "        SELECT 3, \"Database Systems\", 8, \"A\" UNION\n",
    "        SELECT 4, \"Quantum Mechanics\", 9, \"A\" UNION\n",
    "        SELECT 2, \"Data Structures\", 10, \"F\";\n",
    "\n",
    "1. COUNT the number of unique courses.\n",
    "2. JOIN the tables students and courses and COUNT the number of students with the major Computer Science taking the course Python programming.\n",
    "3. JOIN the tables students and courses and select the students who have grades higher than \"C\", only show their name, major, gpa, course_name and grade.\n",
    "\n",
    "\n",
    "## Q3 Aggregate functions, numerical logic and grouping\n",
    "\n",
    "1. Find the average gpa of all students.\n",
    "2. SELECT the student with the maximum gpa, display only their student_id, major and gpa\n",
    "3. SELECT the student with the minimum gpa, display only their student_id, major and gpa\n",
    "4. SELECT the students with a gpa greater than 3.6 in the majors of \"Physics\" and \"Engineering\", display only their student_id, major and gpa\n",
    "5. Group the students by their major and retrieve the average grade of each major.\n",
    "6. SELECT the top 2 students with the highest GPA in each major and order the results by major in ascending order, then by GPA in descending order"
   ]
  },
  {
   "cell_type": "markdown",
   "id": "3ab84519",
   "metadata": {},
   "source": [
    "# Your solution"
   ]
  },
  {
   "attachments": {},
   "cell_type": "markdown",
   "id": "3abdfc5f",
   "metadata": {},
   "source": [
    "# Q1"
   ]
  },
  {
   "cell_type": "code",
   "execution_count": 1,
   "id": "c7cff114",
   "metadata": {},
   "outputs": [
    {
     "name": "stdout",
     "output_type": "stream",
     "text": [
      "SQL-Assignment-3-Plaksha2023 (1).ipynb titanic.csv\n",
      "\u001b[34marchive\u001b[m\u001b[m                                titanic.ipynb\n",
      "\u001b[34mdata\u001b[m\u001b[m                                   titanic_rf.csv\n",
      "\u001b[34mfiles\u001b[m\u001b[m                                  titanic_shiv.ipynb\n",
      "notebook-webscraping_v5.ipynb          titanic_xg.csv\n",
      "titanic-shivanshu.ipynb\n"
     ]
    }
   ],
   "source": [
    "import pandas as pd\n",
    "import sqlite3\n",
    "!ls"
   ]
  },
  {
   "cell_type": "code",
   "execution_count": 2,
   "id": "9d0062d5",
   "metadata": {},
   "outputs": [],
   "source": [
    "connection = sqlite3.connect('sql_assignment.db')\n",
    "cursor = connection.cursor()"
   ]
  },
  {
   "cell_type": "code",
   "execution_count": 3,
   "id": "ad925be8",
   "metadata": {},
   "outputs": [],
   "source": [
    "sql_command = \"\"\"\n",
    "CREATE TABLE students (\n",
    "  student_id INT PRIMARY KEY,\n",
    "  name VARCHAR(255),\n",
    "  major VARCHAR(255),\n",
    "  gpa DECIMAL(3, 2),\n",
    "  enrollment_date DATE\n",
    ");\n",
    "\"\"\""
   ]
  },
  {
   "cell_type": "code",
   "execution_count": 4,
   "id": "7e5ba538",
   "metadata": {},
   "outputs": [
    {
     "data": {
      "text/plain": [
       "<sqlite3.Cursor at 0x11e572140>"
      ]
     },
     "execution_count": 4,
     "metadata": {},
     "output_type": "execute_result"
    }
   ],
   "source": [
    "cursor.execute(sql_command)"
   ]
  },
  {
   "cell_type": "code",
   "execution_count": 6,
   "id": "c3fbfd29",
   "metadata": {},
   "outputs": [
    {
     "data": {
      "text/plain": [
       "<sqlite3.Cursor at 0x11e572140>"
      ]
     },
     "execution_count": 6,
     "metadata": {},
     "output_type": "execute_result"
    }
   ],
   "source": [
    "cursor.execute(\"DROP TABLE IF EXISTS students;\")"
   ]
  },
  {
   "cell_type": "code",
   "execution_count": 7,
   "id": "ef4fc709",
   "metadata": {},
   "outputs": [
    {
     "data": {
      "text/plain": [
       "<sqlite3.Cursor at 0x11e572140>"
      ]
     },
     "execution_count": 7,
     "metadata": {},
     "output_type": "execute_result"
    }
   ],
   "source": [
    "sql_command = \"\"\"\n",
    "CREATE TABLE students AS\n",
    "SELECT 1 AS student_id, \"John\" AS name, \"Computer Science\" AS major, 3.5 AS gpa, \"01-01-2022\" AS\n",
    "enrollment_date UNION\n",
    "    SELECT 2, \"Jane\", \"Physics\", 3.8, \"01-02-2022\" UNION\n",
    "    SELECT 3, \"Bob\", \"Engineering\", 3.0, \"01-03-2022\" UNION\n",
    "    SELECT 4, \"Samantha\", \"Physics\", 3.9, \"01-04-2022\" UNION\n",
    "    SELECT 5, \"James\", \"Engineering\", 3.7, \"01-05-2022\" UNION\n",
    "    SELECT 6, \"Emily\", \"Computer Science\", 3.6, \"01-06-2022\" UNION\n",
    "    SELECT 7, \"Michael\", \"Computer Science\", 3.2, \"01-07-2022\" UNION\n",
    "    SELECT 8, \"Jessica\", \"Engineering\", 3.8, \"01-08-2022\" UNION\n",
    "    SELECT 9, \"Jacob\", \"Physics\", 3.4, \"01-09-2022\" UNION\n",
    "    SELECT 10, \"Ashley\", \"Physics\", 3.9, \"01-10-2022\";\n",
    "\"\"\"\n",
    "cursor.execute(sql_command)"
   ]
  },
  {
   "attachments": {},
   "cell_type": "markdown",
   "id": "ff8bd58b",
   "metadata": {},
   "source": [
    "#### Select all records"
   ]
  },
  {
   "cell_type": "code",
   "execution_count": 11,
   "id": "2af960cf",
   "metadata": {},
   "outputs": [
    {
     "data": {
      "text/plain": [
       "[(1, 'John', 'Computer Science', 3.5, '01-01-2022'),\n",
       " (2, 'Jane', 'Physics', 3.8, '01-02-2022'),\n",
       " (3, 'Bob', 'Engineering', 3.0, '01-03-2022'),\n",
       " (4, 'Samantha', 'Physics', 3.9, '01-04-2022'),\n",
       " (5, 'James', 'Engineering', 3.7, '01-05-2022'),\n",
       " (6, 'Emily', 'Computer Science', 3.6, '01-06-2022'),\n",
       " (7, 'Michael', 'Computer Science', 3.2, '01-07-2022'),\n",
       " (8, 'Jessica', 'Engineering', 3.8, '01-08-2022'),\n",
       " (9, 'Jacob', 'Physics', 3.4, '01-09-2022'),\n",
       " (10, 'Ashley', 'Physics', 3.9, '01-10-2022')]"
      ]
     },
     "execution_count": 11,
     "metadata": {},
     "output_type": "execute_result"
    }
   ],
   "source": [
    "cursor.execute('SELECT * FROM students;').fetchall()\n"
   ]
  },
  {
   "attachments": {},
   "cell_type": "markdown",
   "id": "f63afa29",
   "metadata": {},
   "source": [
    "##### SELECT students whose major is \"Computer Science\".\n"
   ]
  },
  {
   "cell_type": "code",
   "execution_count": 13,
   "id": "62a1b0f8",
   "metadata": {},
   "outputs": [
    {
     "data": {
      "text/plain": [
       "[(1, 'John', 'Computer Science', 3.5, '01-01-2022'),\n",
       " (6, 'Emily', 'Computer Science', 3.6, '01-06-2022'),\n",
       " (7, 'Michael', 'Computer Science', 3.2, '01-07-2022')]"
      ]
     },
     "execution_count": 13,
     "metadata": {},
     "output_type": "execute_result"
    }
   ],
   "source": [
    "sql_command = \"\"\"\n",
    "SELECT * FROM students\n",
    "WHERE major = 'Computer Science' \n",
    "\"\"\"\n",
    "cursor.execute(sql_command).fetchall()"
   ]
  },
  {
   "attachments": {},
   "cell_type": "markdown",
   "id": "7c1e887c",
   "metadata": {},
   "source": [
    "##### SELECT all unique majors (use SELECT DISTINCT) and order them by name, descending order (i.e. Physics first).\n"
   ]
  },
  {
   "cell_type": "code",
   "execution_count": 15,
   "id": "0b3f73a8",
   "metadata": {},
   "outputs": [
    {
     "data": {
      "text/plain": [
       "[('Physics',), ('Engineering',), ('Computer Science',)]"
      ]
     },
     "execution_count": 15,
     "metadata": {},
     "output_type": "execute_result"
    }
   ],
   "source": [
    "sql_command = \"\"\"\n",
    "SELECT DISTINCT (major) FROM students ORDER BY major DESC;\n",
    "\"\"\"\n",
    "cursor.execute(sql_command).fetchall()"
   ]
  },
  {
   "attachments": {},
   "cell_type": "markdown",
   "id": "29cbaa61",
   "metadata": {},
   "source": [
    "##### SELECT all students that have an 'e' in their name and order them by gpa in ascending order."
   ]
  },
  {
   "cell_type": "code",
   "execution_count": 16,
   "id": "48156450",
   "metadata": {},
   "outputs": [
    {
     "data": {
      "text/plain": [
       "[(7, 'Michael', 'Computer Science', 3.2, '01-07-2022'),\n",
       " (6, 'Emily', 'Computer Science', 3.6, '01-06-2022'),\n",
       " (5, 'James', 'Engineering', 3.7, '01-05-2022'),\n",
       " (2, 'Jane', 'Physics', 3.8, '01-02-2022'),\n",
       " (8, 'Jessica', 'Engineering', 3.8, '01-08-2022'),\n",
       " (10, 'Ashley', 'Physics', 3.9, '01-10-2022')]"
      ]
     },
     "execution_count": 16,
     "metadata": {},
     "output_type": "execute_result"
    }
   ],
   "source": [
    "sql_command = \"\"\"\n",
    "SELECT * FROM students WHERE name LIKE \"%e%\" ORDER BY gpa ASC;\n",
    "\"\"\"\n",
    "cursor.execute(sql_command).fetchall()"
   ]
  },
  {
   "attachments": {},
   "cell_type": "markdown",
   "id": "62d4f094",
   "metadata": {},
   "source": [
    "## Q2"
   ]
  },
  {
   "cell_type": "code",
   "execution_count": 17,
   "id": "54312321",
   "metadata": {},
   "outputs": [
    {
     "data": {
      "text/plain": [
       "<sqlite3.Cursor at 0x11e572140>"
      ]
     },
     "execution_count": 17,
     "metadata": {},
     "output_type": "execute_result"
    }
   ],
   "source": [
    "sql_command = '''\n",
    "CREATE TABLE courses AS\n",
    "    SELECT 1 AS course_id, \"Python programming\" AS course_name, 1 AS student_id, \"A\" AS grade UNION\n",
    "    SELECT 2, \"Data Structures\", 2, \"B\" UNION\n",
    "    SELECT 3, \"Database Systems\", 3, \"B\" UNION\n",
    "    SELECT 1, \"Python programming\", 4, \"A\" UNION\n",
    "    SELECT 4, \"Quantum Mechanics\", 5, \"C\" UNION\n",
    "    SELECT 1, \"Python programming\", 6, \"F\" UNION\n",
    "    SELECT 2, \"Data Structures\", 7, \"C\" UNION\n",
    "    SELECT 3, \"Database Systems\", 8, \"A\" UNION\n",
    "    SELECT 4, \"Quantum Mechanics\", 9, \"A\" UNION\n",
    "    SELECT 2, \"Data Structures\", 10, \"F\";'''\n",
    "cursor.execute(sql_command)"
   ]
  },
  {
   "cell_type": "code",
   "execution_count": 18,
   "id": "58a87d6c",
   "metadata": {},
   "outputs": [
    {
     "data": {
      "text/plain": [
       "[(1, 'Python programming', 1, 'A'),\n",
       " (1, 'Python programming', 4, 'A'),\n",
       " (1, 'Python programming', 6, 'F'),\n",
       " (2, 'Data Structures', 2, 'B'),\n",
       " (2, 'Data Structures', 7, 'C'),\n",
       " (2, 'Data Structures', 10, 'F'),\n",
       " (3, 'Database Systems', 3, 'B'),\n",
       " (3, 'Database Systems', 8, 'A'),\n",
       " (4, 'Quantum Mechanics', 5, 'C'),\n",
       " (4, 'Quantum Mechanics', 9, 'A')]"
      ]
     },
     "execution_count": 18,
     "metadata": {},
     "output_type": "execute_result"
    }
   ],
   "source": [
    "cursor.execute('SELECT * FROM courses;').fetchall()\n"
   ]
  },
  {
   "attachments": {},
   "cell_type": "markdown",
   "id": "6019d607",
   "metadata": {},
   "source": [
    "#### COUNT the number of unique courses."
   ]
  },
  {
   "cell_type": "code",
   "execution_count": 19,
   "id": "72e3f152",
   "metadata": {},
   "outputs": [
    {
     "data": {
      "text/plain": [
       "[(4,)]"
      ]
     },
     "execution_count": 19,
     "metadata": {},
     "output_type": "execute_result"
    }
   ],
   "source": [
    "sql_command = \"\"\"\n",
    "SELECT COUNT(DISTINCT course_name) \n",
    "FROM courses; \n",
    "\"\"\"\n",
    "cursor.execute(sql_command).fetchall()"
   ]
  },
  {
   "attachments": {},
   "cell_type": "markdown",
   "id": "021fa0e9",
   "metadata": {},
   "source": [
    "#### JOIN the tables students and courses and COUNT the number of students with the major Computer Science taking the course Python programming."
   ]
  },
  {
   "cell_type": "code",
   "execution_count": 20,
   "id": "d90bd2ae",
   "metadata": {},
   "outputs": [
    {
     "data": {
      "text/plain": [
       "[(2,)]"
      ]
     },
     "execution_count": 20,
     "metadata": {},
     "output_type": "execute_result"
    }
   ],
   "source": [
    "sql_command = \"\"\"\n",
    "SELECT COUNT(*) \n",
    "FROM students \n",
    "JOIN courses ON students.student_id = courses.student_id \n",
    "WHERE major = 'Computer Science' \n",
    "AND course_name = 'Python programming';\n",
    "\"\"\"\n",
    "cursor.execute(sql_command).fetchall()"
   ]
  },
  {
   "attachments": {},
   "cell_type": "markdown",
   "id": "5b7abea1",
   "metadata": {},
   "source": [
    "#### JOIN the tables students and courses and select the students who have grades higher than \"C\", only show their name, major, gpa, course_name and grade"
   ]
  },
  {
   "cell_type": "code",
   "execution_count": 21,
   "id": "73152b5c",
   "metadata": {},
   "outputs": [
    {
     "data": {
      "text/plain": [
       "[('Emily', 'Computer Science', 3.6, 'Python programming', 'F'),\n",
       " ('Ashley', 'Physics', 3.9, 'Data Structures', 'F')]"
      ]
     },
     "execution_count": 21,
     "metadata": {},
     "output_type": "execute_result"
    }
   ],
   "source": [
    "sql_command = \"\"\"\n",
    "SELECT name, major, gpa, course_name, grade \n",
    "FROM students \n",
    "JOIN courses ON students.student_id = courses.student_id \n",
    "WHERE grade > 'C';\n",
    "\"\"\"\n",
    "cursor.execute(sql_command).fetchall()"
   ]
  },
  {
   "attachments": {},
   "cell_type": "markdown",
   "id": "3e2422a7",
   "metadata": {},
   "source": [
    "# Q3"
   ]
  },
  {
   "attachments": {},
   "cell_type": "markdown",
   "id": "62288ac7",
   "metadata": {},
   "source": [
    "#### Find the average gpa of all students.\n"
   ]
  },
  {
   "cell_type": "code",
   "execution_count": 22,
   "id": "e9e5b545",
   "metadata": {},
   "outputs": [
    {
     "data": {
      "text/plain": [
       "[(3.5800000000000005,)]"
      ]
     },
     "execution_count": 22,
     "metadata": {},
     "output_type": "execute_result"
    }
   ],
   "source": [
    "sql_command = \"\"\"\n",
    "SELECT AVG(gpa) \n",
    "FROM students;\n",
    "\"\"\"\n",
    "cursor.execute(sql_command).fetchall()"
   ]
  },
  {
   "attachments": {},
   "cell_type": "markdown",
   "id": "58810121",
   "metadata": {},
   "source": [
    "#### SELECT the student with the maximum gpa, display only their student_id, major and gpa"
   ]
  },
  {
   "cell_type": "code",
   "execution_count": 23,
   "id": "81dc7a1e",
   "metadata": {},
   "outputs": [
    {
     "data": {
      "text/plain": [
       "[(4, 'Physics', 3.9), (10, 'Physics', 3.9)]"
      ]
     },
     "execution_count": 23,
     "metadata": {},
     "output_type": "execute_result"
    }
   ],
   "source": [
    "sql_command = \"\"\"\n",
    "SELECT student_id, major, gpa \n",
    "FROM students \n",
    "WHERE gpa = (SELECT MAX(gpa) FROM students);\n",
    "\"\"\"\n",
    "cursor.execute(sql_command).fetchall()"
   ]
  },
  {
   "attachments": {},
   "cell_type": "markdown",
   "id": "61397a7f",
   "metadata": {},
   "source": [
    "#### SELECT the student with the minimum gpa, display only their student_id, major and gpa"
   ]
  },
  {
   "cell_type": "code",
   "execution_count": 24,
   "id": "11cea883",
   "metadata": {},
   "outputs": [
    {
     "data": {
      "text/plain": [
       "[(3, 'Engineering', 3.0)]"
      ]
     },
     "execution_count": 24,
     "metadata": {},
     "output_type": "execute_result"
    }
   ],
   "source": [
    "sql_command = \"\"\"\n",
    "SELECT student_id, major, gpa \n",
    "FROM students \n",
    "WHERE gpa = (SELECT MIN(gpa) FROM students);\n",
    "\"\"\"\n",
    "cursor.execute(sql_command).fetchall()"
   ]
  },
  {
   "attachments": {},
   "cell_type": "markdown",
   "id": "8c98d45b",
   "metadata": {},
   "source": [
    "#### SELECT the students with a gpa greater than 3.6 in the majors of \"Physics\" and \"Engineering\", display only their student_id, major and gpa\n"
   ]
  },
  {
   "cell_type": "code",
   "execution_count": 25,
   "id": "5b13b77c",
   "metadata": {},
   "outputs": [
    {
     "data": {
      "text/plain": [
       "[(2, 'Physics', 3.8),\n",
       " (4, 'Physics', 3.9),\n",
       " (5, 'Engineering', 3.7),\n",
       " (8, 'Engineering', 3.8),\n",
       " (10, 'Physics', 3.9)]"
      ]
     },
     "execution_count": 25,
     "metadata": {},
     "output_type": "execute_result"
    }
   ],
   "source": [
    "sql_command = \"\"\"\n",
    "SELECT student_id, major, gpa \n",
    "FROM students \n",
    "WHERE (major = 'Physics' OR major = 'Engineering') \n",
    "AND gpa > 3.6;\n",
    "\"\"\"\n",
    "cursor.execute(sql_command).fetchall()"
   ]
  },
  {
   "attachments": {},
   "cell_type": "markdown",
   "id": "2abb4b03",
   "metadata": {},
   "source": [
    "#### Group the students by their major and retrieve the average grade of each major."
   ]
  },
  {
   "cell_type": "code",
   "execution_count": 26,
   "id": "3a08a1d5",
   "metadata": {},
   "outputs": [
    {
     "data": {
      "text/plain": [
       "[('Computer Science', 3.4333333333333336),\n",
       " ('Engineering', 3.5),\n",
       " ('Physics', 3.75)]"
      ]
     },
     "execution_count": 26,
     "metadata": {},
     "output_type": "execute_result"
    }
   ],
   "source": [
    "sql_command = \"\"\"\n",
    "SELECT major, AVG(gpa) \n",
    "FROM students \n",
    "GROUP BY major;\n",
    "\"\"\"\n",
    "cursor.execute(sql_command).fetchall()"
   ]
  },
  {
   "attachments": {},
   "cell_type": "markdown",
   "id": "70e357ba",
   "metadata": {},
   "source": [
    "#### SELECT the top 2 students with the highest GPA in each major and order the results by major in ascending order, then by GPA in descending order"
   ]
  },
  {
   "cell_type": "code",
   "execution_count": 27,
   "id": "8ce58f49",
   "metadata": {},
   "outputs": [
    {
     "data": {
      "text/plain": [
       "[('Computer Science', 'Emily', 3.6),\n",
       " ('Computer Science', 'John', 3.5),\n",
       " ('Engineering', 'Jessica', 3.8),\n",
       " ('Engineering', 'James', 3.7),\n",
       " ('Physics', 'Samantha', 3.9),\n",
       " ('Physics', 'Ashley', 3.9)]"
      ]
     },
     "execution_count": 27,
     "metadata": {},
     "output_type": "execute_result"
    }
   ],
   "source": [
    "sql_command = \"\"\"\n",
    "SELECT major, name, gpa \n",
    "FROM (\n",
    "  SELECT major, name, gpa, \n",
    "         ROW_NUMBER() OVER (PARTITION BY major ORDER BY gpa DESC) AS rn \n",
    "  FROM students\n",
    ") sub \n",
    "WHERE rn <= 2 \n",
    "ORDER BY major ASC, gpa DESC;\n",
    "\"\"\"\n",
    "cursor.execute(sql_command).fetchall()"
   ]
  },
  {
   "cell_type": "code",
   "execution_count": null,
   "id": "3b559546",
   "metadata": {},
   "outputs": [],
   "source": []
  }
 ],
 "metadata": {
  "kernelspec": {
   "display_name": "venv",
   "language": "python",
   "name": "python3"
  },
  "language_info": {
   "codemirror_mode": {
    "name": "ipython",
    "version": 3
   },
   "file_extension": ".py",
   "mimetype": "text/x-python",
   "name": "python",
   "nbconvert_exporter": "python",
   "pygments_lexer": "ipython3",
   "version": "3.10.8"
  },
  "vscode": {
   "interpreter": {
    "hash": "81ba7be7e8a61be773795360703ae1a5875d7ed78fda78eeb694e352715477c5"
   }
  }
 },
 "nbformat": 4,
 "nbformat_minor": 5
}
